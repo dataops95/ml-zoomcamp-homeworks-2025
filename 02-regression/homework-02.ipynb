{
 "cells": [
  {
   "cell_type": "markdown",
   "id": "dfe8c06e-f057-4ea5-91ec-e221ba3f9cc9",
   "metadata": {},
   "source": [
    "# Homework 2: Regression\n",
    "The goal of this homework is to create a regression model for predicting the car fuel efficiency (column 'fuel_efficiency_mpg')."
   ]
  },
  {
   "cell_type": "code",
   "execution_count": null,
   "id": "cce84794-82b3-468f-aa0c-dfb0d7e647ef",
   "metadata": {},
   "outputs": [
    {
     "name": "stdout",
     "output_type": "stream",
     "text": [
      "--2025-10-07 22:39:20--  https://raw.githubusercontent.com/alexeygrigorev/datasets/master/car_fuel_efficiency.csv\n",
      "Resolving raw.githubusercontent.com (raw.githubusercontent.com)... 185.199.111.133, 185.199.110.133, 185.199.109.133, ...\n",
      "Connecting to raw.githubusercontent.com (raw.githubusercontent.com)|185.199.111.133|:443... connected.\n",
      "HTTP request sent, awaiting response... 200 OK\n",
      "Length: 874188 (854K) [text/plain]\n",
      "Saving to: ‘car_fuel_efficiency.csv.1’\n",
      "\n",
      "car_fuel_efficiency 100%[===================>] 853.70K  --.-KB/s    in 0.009s  \n",
      "\n",
      "2025-10-07 22:39:21 (92.5 MB/s) - ‘car_fuel_efficiency.csv.1’ saved [874188/874188]\n",
      "\n"
     ]
    }
   ],
   "source": [
    "# Download data\n",
    "# ! wget https://raw.githubusercontent.com/alexeygrigorev/datasets/master/car_fuel_efficiency.csv"
   ]
  },
  {
   "cell_type": "code",
   "execution_count": 2,
   "id": "b88a96d1-cfb4-4df3-b017-9ac0253ff8f6",
   "metadata": {},
   "outputs": [
    {
     "data": {
      "text/html": [
       "<div>\n",
       "<style scoped>\n",
       "    .dataframe tbody tr th:only-of-type {\n",
       "        vertical-align: middle;\n",
       "    }\n",
       "\n",
       "    .dataframe tbody tr th {\n",
       "        vertical-align: top;\n",
       "    }\n",
       "\n",
       "    .dataframe thead th {\n",
       "        text-align: right;\n",
       "    }\n",
       "</style>\n",
       "<table border=\"1\" class=\"dataframe\">\n",
       "  <thead>\n",
       "    <tr style=\"text-align: right;\">\n",
       "      <th></th>\n",
       "      <th>engine_displacement</th>\n",
       "      <th>num_cylinders</th>\n",
       "      <th>horsepower</th>\n",
       "      <th>vehicle_weight</th>\n",
       "      <th>acceleration</th>\n",
       "      <th>model_year</th>\n",
       "      <th>origin</th>\n",
       "      <th>fuel_type</th>\n",
       "      <th>drivetrain</th>\n",
       "      <th>num_doors</th>\n",
       "      <th>fuel_efficiency_mpg</th>\n",
       "    </tr>\n",
       "  </thead>\n",
       "  <tbody>\n",
       "    <tr>\n",
       "      <th>0</th>\n",
       "      <td>170</td>\n",
       "      <td>3.0</td>\n",
       "      <td>159.0</td>\n",
       "      <td>3413.433759</td>\n",
       "      <td>17.7</td>\n",
       "      <td>2003</td>\n",
       "      <td>Europe</td>\n",
       "      <td>Gasoline</td>\n",
       "      <td>All-wheel drive</td>\n",
       "      <td>0.0</td>\n",
       "      <td>13.231729</td>\n",
       "    </tr>\n",
       "    <tr>\n",
       "      <th>1</th>\n",
       "      <td>130</td>\n",
       "      <td>5.0</td>\n",
       "      <td>97.0</td>\n",
       "      <td>3149.664934</td>\n",
       "      <td>17.8</td>\n",
       "      <td>2007</td>\n",
       "      <td>USA</td>\n",
       "      <td>Gasoline</td>\n",
       "      <td>Front-wheel drive</td>\n",
       "      <td>0.0</td>\n",
       "      <td>13.688217</td>\n",
       "    </tr>\n",
       "    <tr>\n",
       "      <th>2</th>\n",
       "      <td>170</td>\n",
       "      <td>NaN</td>\n",
       "      <td>78.0</td>\n",
       "      <td>3079.038997</td>\n",
       "      <td>15.1</td>\n",
       "      <td>2018</td>\n",
       "      <td>Europe</td>\n",
       "      <td>Gasoline</td>\n",
       "      <td>Front-wheel drive</td>\n",
       "      <td>0.0</td>\n",
       "      <td>14.246341</td>\n",
       "    </tr>\n",
       "    <tr>\n",
       "      <th>3</th>\n",
       "      <td>220</td>\n",
       "      <td>4.0</td>\n",
       "      <td>NaN</td>\n",
       "      <td>2542.392402</td>\n",
       "      <td>20.2</td>\n",
       "      <td>2009</td>\n",
       "      <td>USA</td>\n",
       "      <td>Diesel</td>\n",
       "      <td>All-wheel drive</td>\n",
       "      <td>2.0</td>\n",
       "      <td>16.912736</td>\n",
       "    </tr>\n",
       "    <tr>\n",
       "      <th>4</th>\n",
       "      <td>210</td>\n",
       "      <td>1.0</td>\n",
       "      <td>140.0</td>\n",
       "      <td>3460.870990</td>\n",
       "      <td>14.4</td>\n",
       "      <td>2009</td>\n",
       "      <td>Europe</td>\n",
       "      <td>Gasoline</td>\n",
       "      <td>All-wheel drive</td>\n",
       "      <td>2.0</td>\n",
       "      <td>12.488369</td>\n",
       "    </tr>\n",
       "  </tbody>\n",
       "</table>\n",
       "</div>"
      ],
      "text/plain": [
       "   engine_displacement  num_cylinders  horsepower  vehicle_weight  \\\n",
       "0                  170            3.0       159.0     3413.433759   \n",
       "1                  130            5.0        97.0     3149.664934   \n",
       "2                  170            NaN        78.0     3079.038997   \n",
       "3                  220            4.0         NaN     2542.392402   \n",
       "4                  210            1.0       140.0     3460.870990   \n",
       "\n",
       "   acceleration  model_year  origin fuel_type         drivetrain  num_doors  \\\n",
       "0          17.7        2003  Europe  Gasoline    All-wheel drive        0.0   \n",
       "1          17.8        2007     USA  Gasoline  Front-wheel drive        0.0   \n",
       "2          15.1        2018  Europe  Gasoline  Front-wheel drive        0.0   \n",
       "3          20.2        2009     USA    Diesel    All-wheel drive        2.0   \n",
       "4          14.4        2009  Europe  Gasoline    All-wheel drive        2.0   \n",
       "\n",
       "   fuel_efficiency_mpg  \n",
       "0            13.231729  \n",
       "1            13.688217  \n",
       "2            14.246341  \n",
       "3            16.912736  \n",
       "4            12.488369  "
      ]
     },
     "execution_count": 2,
     "metadata": {},
     "output_type": "execute_result"
    }
   ],
   "source": [
    "import pandas as pd\n",
    "import numpy as np\n",
    "import matplotlib.pyplot as plt\n",
    "import seaborn as sns\n",
    "\n",
    "df = pd.read_csv('car_fuel_efficiency.csv')\n",
    "df.head()"
   ]
  },
  {
   "cell_type": "markdown",
   "id": "dd9f7f45-2fb0-4853-be48-5f566303f6ca",
   "metadata": {},
   "source": [
    "# Preparing the dataset\n",
    "Use only the following columns:\n",
    "- 'engine_displacement',\n",
    "- 'horsepower',\n",
    "- 'vehicle_weight',\n",
    "- 'model_year',\n",
    "- 'fuel_efficiency_mpg'"
   ]
  },
  {
   "cell_type": "code",
   "execution_count": 3,
   "id": "c9b98088-169f-4461-97b9-e6311be7f352",
   "metadata": {},
   "outputs": [
    {
     "data": {
      "text/html": [
       "<div>\n",
       "<style scoped>\n",
       "    .dataframe tbody tr th:only-of-type {\n",
       "        vertical-align: middle;\n",
       "    }\n",
       "\n",
       "    .dataframe tbody tr th {\n",
       "        vertical-align: top;\n",
       "    }\n",
       "\n",
       "    .dataframe thead th {\n",
       "        text-align: right;\n",
       "    }\n",
       "</style>\n",
       "<table border=\"1\" class=\"dataframe\">\n",
       "  <thead>\n",
       "    <tr style=\"text-align: right;\">\n",
       "      <th></th>\n",
       "      <th>engine_displacement</th>\n",
       "      <th>horsepower</th>\n",
       "      <th>vehicle_weight</th>\n",
       "      <th>model_year</th>\n",
       "      <th>fuel_efficiency_mpg</th>\n",
       "    </tr>\n",
       "  </thead>\n",
       "  <tbody>\n",
       "    <tr>\n",
       "      <th>0</th>\n",
       "      <td>170</td>\n",
       "      <td>159.0</td>\n",
       "      <td>3413.433759</td>\n",
       "      <td>2003</td>\n",
       "      <td>13.231729</td>\n",
       "    </tr>\n",
       "    <tr>\n",
       "      <th>1</th>\n",
       "      <td>130</td>\n",
       "      <td>97.0</td>\n",
       "      <td>3149.664934</td>\n",
       "      <td>2007</td>\n",
       "      <td>13.688217</td>\n",
       "    </tr>\n",
       "    <tr>\n",
       "      <th>2</th>\n",
       "      <td>170</td>\n",
       "      <td>78.0</td>\n",
       "      <td>3079.038997</td>\n",
       "      <td>2018</td>\n",
       "      <td>14.246341</td>\n",
       "    </tr>\n",
       "    <tr>\n",
       "      <th>3</th>\n",
       "      <td>220</td>\n",
       "      <td>NaN</td>\n",
       "      <td>2542.392402</td>\n",
       "      <td>2009</td>\n",
       "      <td>16.912736</td>\n",
       "    </tr>\n",
       "    <tr>\n",
       "      <th>4</th>\n",
       "      <td>210</td>\n",
       "      <td>140.0</td>\n",
       "      <td>3460.870990</td>\n",
       "      <td>2009</td>\n",
       "      <td>12.488369</td>\n",
       "    </tr>\n",
       "  </tbody>\n",
       "</table>\n",
       "</div>"
      ],
      "text/plain": [
       "   engine_displacement  horsepower  vehicle_weight  model_year  \\\n",
       "0                  170       159.0     3413.433759        2003   \n",
       "1                  130        97.0     3149.664934        2007   \n",
       "2                  170        78.0     3079.038997        2018   \n",
       "3                  220         NaN     2542.392402        2009   \n",
       "4                  210       140.0     3460.870990        2009   \n",
       "\n",
       "   fuel_efficiency_mpg  \n",
       "0            13.231729  \n",
       "1            13.688217  \n",
       "2            14.246341  \n",
       "3            16.912736  \n",
       "4            12.488369  "
      ]
     },
     "execution_count": 3,
     "metadata": {},
     "output_type": "execute_result"
    }
   ],
   "source": [
    "columns_to_keep = [\n",
    "    'engine_displacement',\n",
    "    'horsepower',\n",
    "    'vehicle_weight',\n",
    "    'model_year',\n",
    "    'fuel_efficiency_mpg'\n",
    "]\n",
    "df_subset = df[columns_to_keep].copy()\n",
    "df_subset.head()"
   ]
  },
  {
   "cell_type": "markdown",
   "id": "4573ec4b",
   "metadata": {},
   "source": [
    "# EDA\n",
    "- Look at the `fuel_efficiency_mpg` variable. Does it have a long tail?"
   ]
  },
  {
   "cell_type": "code",
   "execution_count": 4,
   "id": "a90afddd-712a-4279-9fe9-2313343a4c4d",
   "metadata": {},
   "outputs": [
    {
     "name": "stdout",
     "output_type": "stream",
     "text": [
      "Skewness of fuel_efficiency_mpg: -0.0121\n"
     ]
    },
    {
     "data": {
      "text/plain": [
       "count    9704.000000\n",
       "mean       14.985243\n",
       "std         2.556468\n",
       "min         6.200971\n",
       "25%        13.267459\n",
       "50%        15.006037\n",
       "75%        16.707965\n",
       "max        25.967222\n",
       "Name: fuel_efficiency_mpg, dtype: float64"
      ]
     },
     "execution_count": 4,
     "metadata": {},
     "output_type": "execute_result"
    },
    {
     "data": {
      "image/png": "[encoded data removed]",
      "text/plain": [
       "<Figure size 1000x600 with 1 Axes>"
      ]
     },
     "metadata": {},
     "output_type": "display_data"
    }
   ],
   "source": [
    "# Select the variable of interest\n",
    "fuel_efficiency = df['fuel_efficiency_mpg']\n",
    "\n",
    "# 1. Calculate Skewness to quantify the tail\n",
    "skewness = fuel_efficiency.skew()\n",
    "\n",
    "# 2. Generate Histogram and KDE plot\n",
    "plt.figure(figsize=(10, 6))\n",
    "# kde=True adds the smooth density curve (KDE)\n",
    "sns.histplot(fuel_efficiency, kde=True, bins=30, color='skyblue') \n",
    "\n",
    "# Add title and labels\n",
    "plt.title(f'Distribution of Fuel Efficiency (MPG)\\nSkewness: {skewness:.3f}', fontsize=16)\n",
    "plt.xlabel('Fuel Efficiency (MPG)', fontsize=14)\n",
    "plt.ylabel('Frequency', fontsize=14)\n",
    "plt.grid(axis='y', alpha=0.5)\n",
    "\n",
    "# Save the chart\n",
    "plt.savefig('fuel_efficiency_distribution.png') \n",
    "\n",
    "print(f\"Skewness of fuel_efficiency_mpg: {skewness:.4f}\")\n",
    "fuel_efficiency.describe()"
   ]
  },
  {
   "cell_type": "markdown",
   "id": "426f0570",
   "metadata": {},
   "source": [
    "The shape clearly shows a distribution that is centralized and tapers off roughly equally on both the low and high ends, confirming its near-symmetrical nature, not a long tail."
   ]
  },
  {
   "cell_type": "markdown",
   "id": "459007b3",
   "metadata": {},
   "source": [
    "# Question 1\n",
    "There's one column with missing values. What is it?\n",
    "- 'engine_displacement'\n",
    "- 'horsepower'\n",
    "- 'vehicle_weight'\n",
    "- 'model_year'"
   ]
  },
  {
   "cell_type": "code",
   "execution_count": 5,
   "id": "0062a8e2",
   "metadata": {},
   "outputs": [
    {
     "name": "stdout",
     "output_type": "stream",
     "text": [
      "\n",
      "Subset DataFrame Info:\n",
      "<class 'pandas.core.frame.DataFrame'>\n",
      "RangeIndex: 9704 entries, 0 to 9703\n",
      "Data columns (total 5 columns):\n",
      " #   Column               Non-Null Count  Dtype  \n",
      "---  ------               --------------  -----  \n",
      " 0   engine_displacement  9704 non-null   int64  \n",
      " 1   horsepower           8996 non-null   float64\n",
      " 2   vehicle_weight       9704 non-null   float64\n",
      " 3   model_year           9704 non-null   int64  \n",
      " 4   fuel_efficiency_mpg  9704 non-null   float64\n",
      "dtypes: float64(3), int64(2)\n",
      "memory usage: 379.2 KB\n",
      "\n",
      "Missing Values in Subset DataFrame:\n",
      "engine_displacement      0\n",
      "horsepower             708\n",
      "vehicle_weight           0\n",
      "model_year               0\n",
      "fuel_efficiency_mpg      0\n",
      "dtype: int64\n"
     ]
    }
   ],
   "source": [
    "# 3. Use the .info() method to check data types and non-null counts\n",
    "print(\"\\nSubset DataFrame Info:\")\n",
    "df_subset.info()\n",
    "print(\"\\nMissing Values in Subset DataFrame:\")\n",
    "print(df_subset.isnull().sum())"
   ]
  },
  {
   "cell_type": "markdown",
   "id": "5774d0c9",
   "metadata": {},
   "source": [
    "# Question 2\n",
    "What's the median (50% percentile) for variable `horsepower`?\n",
    "- 49\n",
    "- 99\n",
    "- 149\n",
    "- 199"
   ]
  },
  {
   "cell_type": "code",
   "execution_count": 6,
   "id": "7b504747",
   "metadata": {},
   "outputs": [
    {
     "name": "stdout",
     "output_type": "stream",
     "text": [
      "The median (50th percentile) for 'horsepower' is: 149.0 OR 149.0 OR 149.0\n"
     ]
    }
   ],
   "source": [
    "print(f\"The median (50th percentile) for 'horsepower' is: {df_subset['horsepower'].median()} OR {df_subset['horsepower'].describe()['50%']} OR {df_subset['horsepower'].quantile(0.5)}\")"
   ]
  },
  {
   "cell_type": "markdown",
   "id": "0e108647",
   "metadata": {},
   "source": [
    "# Prepare and split the dataset\n",
    "Shuffle the dataset (the filtered one you created above), use seed 42.  \n",
    "Split your data in train/val/test sets, with 60%/20%/20% distribution.\n",
    "Use the same code as in the lecture."
   ]
  },
  {
   "cell_type": "code",
   "execution_count": 7,
   "id": "c89fa4f8",
   "metadata": {},
   "outputs": [
    {
     "name": "stdout",
     "output_type": "stream",
     "text": [
      "Total rows: 9704, Train rows: 5824, Val rows: 1940, Test rows: 1940\n"
     ]
    }
   ],
   "source": [
    "def split_data(df, seed=42):\n",
    "      # Calculate the number of rows for each set\n",
    "      n = len(df)\n",
    "      n_val = int(n * 0.2)\n",
    "      n_test = int(n * 0.2)\n",
    "      n_train = n - n_val - n_test\n",
    "\n",
    "      # Shuffle the DataFrame\n",
    "      idx = np.arange(n)\n",
    "      np.random.seed(seed)\n",
    "      np.random.shuffle(idx)\n",
    "\n",
    "      # Split the DataFrame\n",
    "      df_train = df.iloc[idx[:n_train]]\n",
    "      df_val = df.iloc[idx[n_train:n_train + n_val]]\n",
    "      df_test = df.iloc[idx[n_train + n_val:]]\n",
    "\n",
    "      # Reset indices\n",
    "      df_train = df_train.reset_index(drop=True)\n",
    "      df_val = df_val.reset_index(drop=True)\n",
    "      df_test = df_test.reset_index(drop=True)\n",
    "\n",
    "      # Get the target variable values\n",
    "      y_train = df_train[['fuel_efficiency_mpg']]\n",
    "      y_val = df_val[['fuel_efficiency_mpg']]\n",
    "      y_test = df_test[['fuel_efficiency_mpg']]\n",
    "\n",
    "      # Get the feature variable values\n",
    "      del df_train['fuel_efficiency_mpg']\n",
    "      del df_val['fuel_efficiency_mpg']\n",
    "      del df_test['fuel_efficiency_mpg']\n",
    "\n",
    "      # Verify the size of splits\n",
    "      print(f\"Total rows: {n}, Train rows: {len(df_train)}, Val rows: {len(df_val)}, Test rows: {len(df_test)}\")\n",
    "\n",
    "      # Return the features and target variables\n",
    "      return df_train, y_train, df_val, y_val, df_test, y_test\n",
    "\n",
    "df_train, y_train, df_val, y_val, df_test, y_test = split_data(df_subset, seed=42)\n",
    "\n"
   ]
  },
  {
   "cell_type": "markdown",
   "id": "3e64451c-b8dc-4980-b090-ff8c3f8a7e42",
   "metadata": {},
   "source": [
    "# Question 3\n",
    "- We need to deal with missing values for the column from Q1.\n",
    "- We have two options: fill it with 0 or with the mean of this variable.\n",
    "- Try both options. For each, train a linear regression model without regularization using the code from the lessons.\n",
    "- For computing the mean, use the training only!\n",
    "- Use the validation dataset to evaluate the models and compare the RMSE of each option.\n",
    "- Round the RMSE scores to 2 decimal digits using round(score, 2)\n",
    "- Which option gives better RMSE?\n",
    "\n",
    "Options:\n",
    "- With 0\n",
    "- With mean\n",
    "- Both are equally good"
   ]
  },
  {
   "cell_type": "code",
   "execution_count": 8,
   "id": "33db1e30-1d1b-4872-bc9b-d8be6e50dc18",
   "metadata": {},
   "outputs": [],
   "source": [
    "def train_linear_regression(X, y):\n",
    "    # Ensure numpy arrays\n",
    "    X = np.array(X)\n",
    "    y = np.array(y)\n",
    "\n",
    "    # Add column of ones for the bias term (intercept)\n",
    "    ones = np.ones(X.shape[0])\n",
    "    X = np.column_stack([ones, X])\n",
    "\n",
    "    # Compute the normal equation: w = (XᵀX)⁻¹ Xᵀy\n",
    "    XTX = X.T.dot(X)\n",
    "    XTX_inv = np.linalg.inv(XTX)\n",
    "    w_full = XTX_inv.dot(X.T).dot(y)\n",
    "\n",
    "    # Return bias and weights separately\n",
    "    w0 = w_full[0]           # intercept\n",
    "    w = w_full[1:]           # feature coefficients\n",
    "    return w0, w\n",
    "\n",
    "def rmse(y, y_pred):\n",
    "    y = np.array(y)\n",
    "    y_pred = np.array(y_pred)\n",
    "    mse = ((y - y_pred)**2).mean()    \n",
    "    return round(np.sqrt(mse), 2)"
   ]
  },
  {
   "cell_type": "code",
   "execution_count": 16,
   "id": "dc3a0608",
   "metadata": {},
   "outputs": [
    {
     "data": {
      "text/plain": [
       "np.float64(0.52)"
      ]
     },
     "execution_count": 16,
     "metadata": {},
     "output_type": "execute_result"
    }
   ],
   "source": [
    "# Fill missing horsepower values with 0\n",
    "X_train_zero = df_train.fillna(0)\n",
    "X_val_zero = df_val.fillna(0)\n",
    "\n",
    "# Train the model\n",
    "w0_zero, w_zero = train_linear_regression(X_train_zero, y_train)\n",
    "\n",
    "# Get predictions on the validation set\n",
    "y_pred_val_zero = w0_zero + X_val_zero.dot(w_zero)\n",
    "\n",
    "rmse(y_val, y_pred_val_zero)"
   ]
  },
  {
   "cell_type": "code",
   "execution_count": 17,
   "id": "07dafddb",
   "metadata": {},
   "outputs": [
    {
     "data": {
      "text/plain": [
       "np.float64(0.46)"
      ]
     },
     "execution_count": 17,
     "metadata": {},
     "output_type": "execute_result"
    }
   ],
   "source": [
    "# Fill missing horsepower values with calculated mean\n",
    "train_mean_horsepower = df_train['horsepower'].mean()\n",
    "val_mean_horsepower = df_val['horsepower'].mean()\n",
    "X_train_mean = df_train.fillna(train_mean_horsepower)\n",
    "X_val_mean = df_val.fillna(val_mean_horsepower)\n",
    "\n",
    "# Train the model\n",
    "w0_mean, w_mean = train_linear_regression(X_train_mean, y_train)\n",
    "\n",
    "# Get predictions on the validation set\n",
    "y_pred_val_mean = w0_mean + X_val_mean.dot(w_mean)\n",
    "\n",
    "rmse(y_val, y_pred_val_mean)"
   ]
  },
  {
   "cell_type": "code",
   "execution_count": null,
   "id": "6d116ba1",
   "metadata": {},
   "outputs": [],
   "source": []
  }
 ],
 "metadata": {
  "kernelspec": {
   "display_name": "Python 3",
   "language": "python",
   "name": "python3"
  },
  "language_info": {
   "codemirror_mode": {
    "name": "ipython",
    "version": 3
   },
   "file_extension": ".py",
   "mimetype": "text/x-python",
   "name": "python",
   "nbconvert_exporter": "python",
   "pygments_lexer": "ipython3",
   "version": "3.12.1"
  }
 },
 "nbformat": 4,
 "nbformat_minor": 5
}
